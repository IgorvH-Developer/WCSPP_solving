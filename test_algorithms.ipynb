{
 "cells": [
  {
   "cell_type": "markdown",
   "id": "ff584783-9596-44b1-ae62-8c847c7a9e5e",
   "metadata": {},
   "source": [
    "Прогон алгоритмов на тестовых данных из файла"
   ]
  },
  {
   "cell_type": "code",
   "execution_count": 4,
   "id": "133dc1e5-5125-4071-981a-ae1394f92744",
   "metadata": {},
   "outputs": [],
   "source": [
    "import subprocess\n",
    "\n",
    "algorithm = 'WC_EBBA'\n",
    "\n",
    "# Чтение параметров из файла params.txt\n",
    "with open('params.txt', 'r') as file:\n",
    "    parameters = file.read().splitlines()\n",
    "\n",
    "# Файл для записи результатов\n",
    "output_file = open('results_' + algorithm + '.txt', 'w')\n",
    "output_file.write('alg       queue  map  start_id  goal_id  constraint  min_cost1  min_cost2  budget  sol_cost1  sol_cost2  runtime(s)  search_malloc(KB)' + '\\n')\n",
    "\n",
    "for param in parameters:\n",
    "    command = f'./biobj/src/bin/roadhog --alg {algorithm} --input ./biobj/maps/NY.xy {param} --noheader'\n",
    "    result = subprocess.run(command.split(), capture_output=True, text=True)\n",
    "    \n",
    "    output_file.write(result.stdout.strip() + '\\n')\n",
    "\n",
    "output_file.close()"
   ]
  },
  {
   "cell_type": "code",
   "execution_count": null,
   "id": "1552ac17-97d2-49b1-a152-7c2e82e9df9a",
   "metadata": {},
   "outputs": [],
   "source": []
  },
  {
   "cell_type": "code",
   "execution_count": null,
   "id": "ea876157-573c-49c5-89ed-24c26fb78e1d",
   "metadata": {},
   "outputs": [],
   "source": []
  },
  {
   "cell_type": "code",
   "execution_count": null,
   "id": "c5b6896e-d216-413b-9343-7adc104d9c9c",
   "metadata": {},
   "outputs": [],
   "source": []
  },
  {
   "cell_type": "code",
   "execution_count": null,
   "id": "a4ba2123-f193-4355-a277-e15b3879f27a",
   "metadata": {},
   "outputs": [],
   "source": []
  },
  {
   "cell_type": "code",
   "execution_count": null,
   "id": "0ae92854-fa1e-46f5-b9b8-37f6e28b6c11",
   "metadata": {},
   "outputs": [],
   "source": []
  },
  {
   "cell_type": "code",
   "execution_count": null,
   "id": "4db9527e-32c0-4eb8-ac8c-18ff63f6b2d4",
   "metadata": {},
   "outputs": [],
   "source": []
  },
  {
   "cell_type": "code",
   "execution_count": null,
   "id": "ea35e7a9-60d0-46b3-a6e1-b6911b75d5f9",
   "metadata": {},
   "outputs": [],
   "source": []
  },
  {
   "cell_type": "code",
   "execution_count": null,
   "id": "7f9c8687-be27-46db-9718-e7e2fa23ac7c",
   "metadata": {},
   "outputs": [],
   "source": []
  },
  {
   "cell_type": "code",
   "execution_count": null,
   "id": "ded52f73-67a6-4a55-af4c-0902c24ff75b",
   "metadata": {},
   "outputs": [],
   "source": []
  },
  {
   "cell_type": "code",
   "execution_count": null,
   "id": "337d2e59-81d1-4196-8b78-e6f2ed948004",
   "metadata": {},
   "outputs": [],
   "source": []
  }
 ],
 "metadata": {
  "kernelspec": {
   "display_name": "Python 3 (ipykernel)",
   "language": "python",
   "name": "python3"
  },
  "language_info": {
   "codemirror_mode": {
    "name": "ipython",
    "version": 3
   },
   "file_extension": ".py",
   "mimetype": "text/x-python",
   "name": "python",
   "nbconvert_exporter": "python",
   "pygments_lexer": "ipython3",
   "version": "3.10.12"
  }
 },
 "nbformat": 4,
 "nbformat_minor": 5
}
